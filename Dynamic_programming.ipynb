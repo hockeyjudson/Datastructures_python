{
 "cells": [
  {
   "cell_type": "markdown",
   "metadata": {},
   "source": [
    "## Kadane's algorithm or Maximum subarray sum"
   ]
  },
  {
   "cell_type": "code",
   "execution_count": 7,
   "metadata": {},
   "outputs": [],
   "source": [
    "def kadane(iplist):\n",
    "    best_sum = float(\"-inf\")\n",
    "    current_sum = 0\n",
    "    for i in iplist:\n",
    "        print(f\"i:{i},currrent_sum:{current_sum},best_sum:{best_sum}\")\n",
    "        current_sum = max(0,current_sum+i)\n",
    "        best_sum = max(current_sum,best_sum)\n",
    "    return best_sum"
   ]
  },
  {
   "cell_type": "code",
   "execution_count": 9,
   "metadata": {},
   "outputs": [
    {
     "name": "stdout",
     "output_type": "stream",
     "text": [
      "i:2,currrent_sum:0,best_sum:-inf\n",
      "i:-1,currrent_sum:2,best_sum:2\n",
      "i:23,currrent_sum:1,best_sum:2\n",
      "i:-20,currrent_sum:24,best_sum:24\n",
      "i:5,currrent_sum:4,best_sum:24\n"
     ]
    },
    {
     "data": {
      "text/plain": [
       "24"
      ]
     },
     "execution_count": 9,
     "metadata": {},
     "output_type": "execute_result"
    }
   ],
   "source": [
    "kadane([2,-1,23,-20,5])"
   ]
  },
  {
   "cell_type": "markdown",
   "metadata": {},
   "source": [
    "## Longest palindromic substring"
   ]
  },
  {
   "cell_type": "code",
   "execution_count": 17,
   "metadata": {},
   "outputs": [],
   "source": [
    "def LPsubstr(ipstr):\n",
    "    ln = len(ipstr)\n",
    "    if ln==0:\n",
    "        return \"\"\n",
    "    mat = [ [0 for i in range(ln)] for i in range(ln)]\n",
    "    for i in range(ln):\n",
    "        mat[i][i] = 1\n",
    "    lps = \"\"\n",
    "    for c1 in range(2,ln+1):\n",
    "        for i in range(ln - c1 + 1):\n",
    "            j = i + c1 -1\n",
    "            if ipstr[i] == ipstr[j] and c1 == 2:\n",
    "                mat[i][j] = 2\n",
    "                #lps = lps + ipstr[i]\n",
    "            elif ipstr[i] == ipstr[j]:\n",
    "                mat[i][j] = mat[i][j-1] + 2\n",
    "                #lps = lps + ipstr[i]\n",
    "            else:\n",
    "                mat[i][j] = max(mat[i][j-1],mat[i+1][j])\n",
    "    return mat[0][ln-1],lps\n",
    "    "
   ]
  },
  {
   "cell_type": "code",
   "execution_count": 16,
   "metadata": {},
   "outputs": [
    {
     "data": {
      "text/plain": [
       "(3, 'b')"
      ]
     },
     "execution_count": 16,
     "metadata": {},
     "output_type": "execute_result"
    }
   ],
   "source": [
    "LPsubstr(\"ab3bc\")"
   ]
  },
  {
   "cell_type": "markdown",
   "metadata": {},
   "source": [
    "## Generate all possible substring not a dp problem"
   ]
  },
  {
   "cell_type": "code",
   "execution_count": 65,
   "metadata": {},
   "outputs": [],
   "source": [
    "def sub_string_generate(ipstr:str):\n",
    "    ln = len(ipstr)\n",
    "    rst_lst = []\n",
    "    for i in range(1,ln+1):\n",
    "        for j in range(ln - i+1):\n",
    "            k  = j + i -1\n",
    "            st = \"\"\n",
    "            for l in range(j,k+1):\n",
    "                st = st + ipstr[l]\n",
    "            rst_lst.append(st)\n",
    "    return rst_lst"
   ]
  },
  {
   "cell_type": "code",
   "execution_count": 67,
   "metadata": {},
   "outputs": [
    {
     "data": {
      "text/plain": [
       "['a', 'b', 'c', 'd', 'ab', 'bc', 'cd', 'abc', 'bcd', 'abcd']"
      ]
     },
     "execution_count": 67,
     "metadata": {},
     "output_type": "execute_result"
    }
   ],
   "source": [
    "sub_string_generate(\"abcd\")"
   ]
  },
  {
   "cell_type": "markdown",
   "metadata": {},
   "source": [
    "## Minimum edit distance"
   ]
  },
  {
   "cell_type": "code",
   "execution_count": 77,
   "metadata": {},
   "outputs": [],
   "source": [
    "def editDistanceDP(string1,string2):\n",
    "    len1 = len(string1)\n",
    "    len2 = len(string2)\n",
    "    mat = [[0 for i in range(len2+1)] for j in range(len1+1)]\n",
    "    for i in range(len1+1):\n",
    "        for j in range(len2 + 1):\n",
    "            if i == 0:\n",
    "                mat[i][j] = j\n",
    "            elif j == 0:\n",
    "                mat[i][j] = i\n",
    "            elif string1[i-1] == string2[j-1]:\n",
    "                mat[i][j] = mat[i-1][j-1]\n",
    "            else:\n",
    "                mat[i][j] = 1+ min(mat[i][j-1],mat[i-1][j],mat[i-1][j-1])\n",
    "    return mat[len1] [len2],mat"
   ]
  },
  {
   "cell_type": "code",
   "execution_count": 79,
   "metadata": {},
   "outputs": [
    {
     "data": {
      "text/plain": [
       "(3,\n",
       " [[0, 1, 2, 3, 4, 5, 6, 7, 8],\n",
       "  [1, 0, 1, 2, 3, 4, 5, 6, 7],\n",
       "  [2, 1, 1, 2, 2, 3, 4, 5, 6],\n",
       "  [3, 2, 2, 2, 3, 3, 4, 5, 6],\n",
       "  [4, 3, 3, 3, 3, 4, 3, 4, 5],\n",
       "  [5, 4, 3, 4, 4, 4, 4, 3, 4],\n",
       "  [6, 5, 4, 4, 5, 5, 5, 4, 3]])"
      ]
     },
     "execution_count": 79,
     "metadata": {},
     "output_type": "execute_result"
    }
   ],
   "source": [
    "editDistanceDP(\"sunday\",\"saturday\")"
   ]
  }
 ],
 "metadata": {
  "kernelspec": {
   "display_name": "Python 3",
   "language": "python",
   "name": "python3"
  },
  "language_info": {
   "codemirror_mode": {
    "name": "ipython",
    "version": 3
   },
   "file_extension": ".py",
   "mimetype": "text/x-python",
   "name": "python",
   "nbconvert_exporter": "python",
   "pygments_lexer": "ipython3",
   "version": "3.7.3"
  }
 },
 "nbformat": 4,
 "nbformat_minor": 2
}
