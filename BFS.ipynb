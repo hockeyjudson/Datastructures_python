{
 "cells": [
  {
   "cell_type": "code",
   "execution_count": 1,
   "metadata": {},
   "outputs": [],
   "source": [
    "from collections import defaultdict"
   ]
  },
  {
   "cell_type": "code",
   "execution_count": 51,
   "metadata": {},
   "outputs": [],
   "source": [
    "class Graph:\n",
    "    def __init__(self):\n",
    "        self.graph = defaultdict(list)\n",
    "    def add_edge(self,u,v):\n",
    "        self.graph[u].append(v)\n",
    "    def BFS(self,s):\n",
    "        print(self.graph)\n",
    "        #visited = [False] * (len(self.graph))\n",
    "        visited  = set()\n",
    "        queue = [s]\n",
    "        visited.add(s)\n",
    "        while queue:\n",
    "            print(\"queue:\",queue)\n",
    "            s = queue.pop(0)\n",
    "            print(s, end = \" \")\n",
    "            for i in self.graph[s]:\n",
    "                if i not in visited:\n",
    "                    queue.append(i)\n",
    "                    visited.add(i)\n",
    "    def DFSutil(self,v,visited):\n",
    "        visited.add(v)\n",
    "        print(v,end = \" \")\n",
    "        for i in self.graph[v]:\n",
    "            if i not in visited:\n",
    "                self.DFSutil(i,visited)\n",
    "    def DFS(self):\n",
    "        visited = set()\n",
    "        keys = iter(self.graph.keys())\n",
    "        for i in keys:\n",
    "            if i not in visited:\n",
    "                self.DFSutil(i,visited)"
   ]
  },
  {
   "cell_type": "code",
   "execution_count": 53,
   "metadata": {},
   "outputs": [
    {
     "name": "stdout",
     "output_type": "stream",
     "text": [
      "defaultdict(<class 'list'>, {0: [1], 1: [1, 2, 3, 4], 3: [1, 5], 5: [9], 2: [9], 4: [5], 9: [0]})\n",
      "queue: [5]\n",
      "5 queue: [9]\n",
      "9 queue: [0]\n",
      "0 queue: [1]\n",
      "1 queue: [2, 3, 4]\n",
      "2 queue: [3, 4]\n",
      "3 queue: [4]\n",
      "4 0 1 2 9 3 5 4 "
     ]
    }
   ],
   "source": [
    "g = Graph()\n",
    "g.add_edge(0,1)\n",
    "g.add_edge(1,1)\n",
    "g.add_edge(1,2)\n",
    "g.add_edge(3,1)\n",
    "g.add_edge(1,3)\n",
    "g.add_edge(1,4)\n",
    "g.add_edge(3,5)\n",
    "g.add_edge(5,9)\n",
    "g.add_edge(2,9)\n",
    "g.add_edge(4,5)\n",
    "g.add_edge(9,0)\n",
    "g.BFS(5)\n",
    "g.DFS()"
   ]
  }
 ],
 "metadata": {
  "kernelspec": {
   "display_name": "Python 3",
   "language": "python",
   "name": "python3"
  },
  "language_info": {
   "codemirror_mode": {
    "name": "ipython",
    "version": 3
   },
   "file_extension": ".py",
   "mimetype": "text/x-python",
   "name": "python",
   "nbconvert_exporter": "python",
   "pygments_lexer": "ipython3",
   "version": "3.7.3"
  }
 },
 "nbformat": 4,
 "nbformat_minor": 2
}
