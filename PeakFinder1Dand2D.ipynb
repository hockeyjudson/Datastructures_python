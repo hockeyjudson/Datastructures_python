{
 "cells": [
  {
   "cell_type": "code",
   "execution_count": 7,
   "metadata": {
    "collapsed": true
   },
   "outputs": [
    {
     "name": "stdout",
     "output_type": "stream",
     "text": [
      "peak at index 1: 94 and 191 and 13\n",
      "peak at index 6: 99 and 166 and 43\n",
      "peak at index 10: 148 and 181 and 122\n",
      "peak at index 16: 140 and 145 and 111\n",
      "peak at index 18: 12 and 198 and 145\n",
      "peak at index 21: 19 and 192 and 35\n",
      "peak at index 23: 13 and 198 and 192\n",
      "peak at index 27: 7 and 128 and 50\n",
      "peak at index 30: 46 and 167 and 81\n",
      "peak at index 32: 47 and 150 and 167\n",
      "peak at index 35: 13 and 199 and 21\n",
      "peak at index 37: 73 and 86 and 199\n",
      "peak at index 41: 116 and 122 and 42\n",
      "peak at index 43: 84 and 134 and 122\n",
      "peak at index 45: 27 and 159 and 134\n",
      "peak at index 48: 74 and 76 and 12\n",
      "peak at index 50: 29 and 98 and 76\n",
      "peak at index 52: 23 and 176 and 98\n",
      "peak at index 55: 65 and 174 and 174\n",
      "peak at index 59: 57 and 134 and 72\n",
      "peak at index 60: 134 and 134 and 57\n",
      "peak at index 63: 112 and 188 and 26\n",
      "peak at index 65: 73 and 112 and 188\n",
      "peak at index 69: 72 and 152 and 12\n",
      "peak at index 71: 116 and 187 and 152\n",
      "peak at index 74: 67 and 149 and 19\n",
      "peak at index 79: 131 and 191 and 18\n",
      "peak at index 81: 142 and 170 and 191\n",
      "peak at index 85: 181 and 192 and 8\n",
      "peak at index 88: 104 and 139 and 12\n",
      "peak at index 91: 37 and 68 and 19\n",
      "peak at index 93: 33 and 97 and 68\n",
      "peak at index 96: 153 and 177 and 27\n",
      "peak at index 98: 119 and 198 and 177\n",
      " "
     ]
    }
   ],
   "source": [
    "import random\n",
    "l =[ random.randint(0,200) for _ in range(100)]\n",
    "def peak_finder(iplist:list):\n",
    "    ln = len(iplist)\n",
    "    for i,j in enumerate(iplist):\n",
    "        if i==0:\n",
    "            if iplist[0] >= iplist[1]:\n",
    "                print(f\"peak at index 0: {iplist[0]} and {iplist[1]}\")\n",
    "        elif i ==ln -1:\n",
    "                if(iplist[ln-1] >= iplist[ln-2]):\n",
    "                    print(f\"peak at index {ln-1}: {iplist[ln-1]} and {iplist[ln-2]}\")\n",
    "        else:\n",
    "            if iplist[i] >= iplist[i-1] and iplist[i] >= iplist[i+1] :\n",
    "                print(f\"peak at index {i}: {iplist[i-1]} and {iplist[i]} and {iplist[i-2]}\")\n",
    "%prun peak_finder(l)"
   ]
  },
  {
   "cell_type": "code",
   "execution_count": 22,
   "metadata": {},
   "outputs": [],
   "source": [
    "def peak_finder2d(iplist,i:int, j:int,row_size:int,col_size:int):\n",
    "    if(i>0 and iplist[i-1][j] > iplist[i][j]) :\n",
    "        return peak_finder2d(iplist,i-1,j,row_size,col_size)\n",
    "    elif(i<row_size-1 and iplist[i+1][j] > iplist[i][j]): \n",
    "        return peak_finder2d(iplist,i+1,j ,row_size,col_size)\n",
    "    elif(j > 0 and iplist[i][j-1] > a[i][j]): \n",
    "        return peak_finder2d(iplist,i,j-1,row_size,col_size)\n",
    "    elif(j<row_size-1 and iplist[i][j+1] > a[i][j]): \n",
    "        return peak_finder2d(iplist,i,j+1,row_size,col_size)\n",
    "    return iplist[i][j],i,j\n",
    "    "
   ]
  },
  {
   "cell_type": "code",
   "execution_count": 25,
   "metadata": {},
   "outputs": [
    {
     "name": "stdout",
     "output_type": "stream",
     "text": [
      " "
     ]
    }
   ],
   "source": [
    "a=[[1,2,3],[4,3,9],[1,2,3]]\n",
    "%prun peak_finder2d(a,0,0,3,3)"
   ]
  }
 ],
 "metadata": {
  "kernelspec": {
   "display_name": "Python 3",
   "language": "python",
   "name": "python3"
  },
  "language_info": {
   "codemirror_mode": {
    "name": "ipython",
    "version": 3
   },
   "file_extension": ".py",
   "mimetype": "text/x-python",
   "name": "python",
   "nbconvert_exporter": "python",
   "pygments_lexer": "ipython3",
   "version": "3.7.3"
  }
 },
 "nbformat": 4,
 "nbformat_minor": 2
}
